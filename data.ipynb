{
 "cells": [
  {
   "cell_type": "code",
   "execution_count": 11,
   "id": "9ee9fce3",
   "metadata": {},
   "outputs": [],
   "source": [
    "from requests import Request, Session\n",
    "import json\n",
    "import pprint"
   ]
  },
  {
   "cell_type": "code",
   "execution_count": 12,
   "id": "3a4f46fc",
   "metadata": {},
   "outputs": [],
   "source": [
    "url = 'https://pro-api.coinmarketcap.com/v2/cryptocurrency/quotes/latest'"
   ]
  },
  {
   "cell_type": "code",
   "execution_count": 13,
   "id": "6da5b2c5",
   "metadata": {},
   "outputs": [],
   "source": [
    "parameter = {\n",
    "    'slug':'bitcoin',\n",
    "    'convert':'USD'\n",
    "}"
   ]
  },
  {
   "cell_type": "code",
   "execution_count": 5,
   "id": "ca3723a4",
   "metadata": {},
   "outputs": [],
   "source": [
    "headers = {\n",
    "    'Accepts': 'application/json',\n",
    "    'X-CMC_PRO_API_KEY': '755c83a4-1e9c-473b-99f6-bfec85be4b22'\n",
    "}\n"
   ]
  },
  {
   "cell_type": "code",
   "execution_count": 6,
   "id": "3150a1ec",
   "metadata": {},
   "outputs": [],
   "source": [
    "session = Session()"
   ]
  },
  {
   "cell_type": "code",
   "execution_count": 7,
   "id": "ac27eb26",
   "metadata": {},
   "outputs": [],
   "source": [
    "session.headers.update(headers)"
   ]
  },
  {
   "cell_type": "code",
   "execution_count": 8,
   "id": "c9c7b425",
   "metadata": {},
   "outputs": [],
   "source": [
    "response = session.get(url, params=parameter)"
   ]
  },
  {
   "cell_type": "code",
   "execution_count": 15,
   "id": "f98e9f47",
   "metadata": {},
   "outputs": [
    {
     "name": "stdout",
     "output_type": "stream",
     "text": [
      "{'1': {'circulating_supply': 19505837,\n",
      "       'cmc_rank': 1,\n",
      "       'date_added': '2010-07-13T00:00:00.000Z',\n",
      "       'id': 1,\n",
      "       'infinite_supply': False,\n",
      "       'is_active': 1,\n",
      "       'is_fiat': 0,\n",
      "       'last_updated': '2023-10-06T18:17:00.000Z',\n",
      "       'max_supply': 21000000,\n",
      "       'name': 'Bitcoin',\n",
      "       'num_market_pairs': 10486,\n",
      "       'platform': None,\n",
      "       'quote': {'USD': {'fully_diluted_market_cap': 586498296800.39,\n",
      "                         'last_updated': '2023-10-06T18:17:00.000Z',\n",
      "                         'market_cap': 544768579912.66833,\n",
      "                         'market_cap_dominance': 49.7493,\n",
      "                         'percent_change_1h': 0.23178123,\n",
      "                         'percent_change_24h': 1.56765154,\n",
      "                         'percent_change_30d': 8.33029974,\n",
      "                         'percent_change_60d': -4.03960306,\n",
      "                         'percent_change_7d': 4.19886052,\n",
      "                         'percent_change_90d': -7.59754132,\n",
      "                         'price': 27928.49032382811,\n",
      "                         'tvl': None,\n",
      "                         'volume_24h': 12464657273.458717,\n",
      "                         'volume_change_24h': -5.0439}},\n",
      "       'self_reported_circulating_supply': None,\n",
      "       'self_reported_market_cap': None,\n",
      "       'slug': 'bitcoin',\n",
      "       'symbol': 'BTC',\n",
      "       'tags': [{'category': 'OTHERS', 'name': 'Mineable', 'slug': 'mineable'},\n",
      "                {'category': 'ALGORITHM', 'name': 'PoW', 'slug': 'pow'},\n",
      "                {'category': 'ALGORITHM', 'name': 'SHA-256', 'slug': 'sha-256'},\n",
      "                {'category': 'CATEGORY',\n",
      "                 'name': 'Store Of Value',\n",
      "                 'slug': 'store-of-value'},\n",
      "                {'category': 'CATEGORY',\n",
      "                 'name': 'State Channel',\n",
      "                 'slug': 'state-channel'},\n",
      "                {'category': 'CATEGORY',\n",
      "                 'name': 'Coinbase Ventures Portfolio',\n",
      "                 'slug': 'coinbase-ventures-portfolio'},\n",
      "                {'category': 'CATEGORY',\n",
      "                 'name': 'Three Arrows Capital Portfolio',\n",
      "                 'slug': 'three-arrows-capital-portfolio'},\n",
      "                {'category': 'CATEGORY',\n",
      "                 'name': 'Polychain Capital Portfolio',\n",
      "                 'slug': 'polychain-capital-portfolio'},\n",
      "                {'category': 'CATEGORY',\n",
      "                 'name': 'Binance Labs Portfolio',\n",
      "                 'slug': 'binance-labs-portfolio'},\n",
      "                {'category': 'CATEGORY',\n",
      "                 'name': 'Blockchain Capital Portfolio',\n",
      "                 'slug': 'blockchain-capital-portfolio'},\n",
      "                {'category': 'CATEGORY',\n",
      "                 'name': 'BoostVC Portfolio',\n",
      "                 'slug': 'boostvc-portfolio'},\n",
      "                {'category': 'CATEGORY',\n",
      "                 'name': 'CMS Holdings Portfolio',\n",
      "                 'slug': 'cms-holdings-portfolio'},\n",
      "                {'category': 'CATEGORY',\n",
      "                 'name': 'DCG Portfolio',\n",
      "                 'slug': 'dcg-portfolio'},\n",
      "                {'category': 'CATEGORY',\n",
      "                 'name': 'DragonFly Capital Portfolio',\n",
      "                 'slug': 'dragonfly-capital-portfolio'},\n",
      "                {'category': 'CATEGORY',\n",
      "                 'name': 'Electric Capital Portfolio',\n",
      "                 'slug': 'electric-capital-portfolio'},\n",
      "                {'category': 'CATEGORY',\n",
      "                 'name': 'Fabric Ventures Portfolio',\n",
      "                 'slug': 'fabric-ventures-portfolio'},\n",
      "                {'category': 'CATEGORY',\n",
      "                 'name': 'Framework Ventures Portfolio',\n",
      "                 'slug': 'framework-ventures-portfolio'},\n",
      "                {'category': 'CATEGORY',\n",
      "                 'name': 'Galaxy Digital Portfolio',\n",
      "                 'slug': 'galaxy-digital-portfolio'},\n",
      "                {'category': 'CATEGORY',\n",
      "                 'name': 'Huobi Capital Portfolio',\n",
      "                 'slug': 'huobi-capital-portfolio'},\n",
      "                {'category': 'CATEGORY',\n",
      "                 'name': 'Alameda Research Portfolio',\n",
      "                 'slug': 'alameda-research-portfolio'},\n",
      "                {'category': 'CATEGORY',\n",
      "                 'name': 'a16z Portfolio',\n",
      "                 'slug': 'a16z-portfolio'},\n",
      "                {'category': 'CATEGORY',\n",
      "                 'name': '1Confirmation Portfolio',\n",
      "                 'slug': '1confirmation-portfolio'},\n",
      "                {'category': 'CATEGORY',\n",
      "                 'name': 'Winklevoss Capital Portfolio',\n",
      "                 'slug': 'winklevoss-capital-portfolio'},\n",
      "                {'category': 'CATEGORY',\n",
      "                 'name': 'USV Portfolio',\n",
      "                 'slug': 'usv-portfolio'},\n",
      "                {'category': 'CATEGORY',\n",
      "                 'name': 'Placeholder Ventures Portfolio',\n",
      "                 'slug': 'placeholder-ventures-portfolio'},\n",
      "                {'category': 'CATEGORY',\n",
      "                 'name': 'Pantera Capital Portfolio',\n",
      "                 'slug': 'pantera-capital-portfolio'},\n",
      "                {'category': 'CATEGORY',\n",
      "                 'name': 'Multicoin Capital Portfolio',\n",
      "                 'slug': 'multicoin-capital-portfolio'},\n",
      "                {'category': 'CATEGORY',\n",
      "                 'name': 'Paradigm Portfolio',\n",
      "                 'slug': 'paradigm-portfolio'},\n",
      "                {'category': 'PLATFORM',\n",
      "                 'name': 'Bitcoin Ecosystem',\n",
      "                 'slug': 'bitcoin-ecosystem'},\n",
      "                {'category': 'CATEGORY',\n",
      "                 'name': 'FTX Bankruptcy Estate ',\n",
      "                 'slug': 'ftx-bankruptcy-estate'}],\n",
      "       'total_supply': 19505837,\n",
      "       'tvl_ratio': None}}\n"
     ]
    }
   ],
   "source": [
    "pprint.pprint(json.loads(response.text)['data'])"
   ]
  },
  {
   "cell_type": "code",
   "execution_count": null,
   "id": "ad99e8d9",
   "metadata": {},
   "outputs": [],
   "source": []
  }
 ],
 "metadata": {
  "kernelspec": {
   "display_name": "Python 3 (ipykernel)",
   "language": "python",
   "name": "python3"
  },
  "language_info": {
   "codemirror_mode": {
    "name": "ipython",
    "version": 3
   },
   "file_extension": ".py",
   "mimetype": "text/x-python",
   "name": "python",
   "nbconvert_exporter": "python",
   "pygments_lexer": "ipython3",
   "version": "3.11.5"
  }
 },
 "nbformat": 4,
 "nbformat_minor": 5
}
