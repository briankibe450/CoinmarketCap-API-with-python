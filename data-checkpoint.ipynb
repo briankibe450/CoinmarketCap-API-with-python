{
 "cells": [
  {
   "cell_type": "code",
   "execution_count": 1,
   "id": "9ee9fce3",
   "metadata": {},
   "outputs": [],
   "source": [
    "from requests import Request, Session\n",
    "import json"
   ]
  },
  {
   "cell_type": "code",
   "execution_count": 2,
   "id": "75a46648",
   "metadata": {},
   "outputs": [],
   "source": [
    "url = 'https://pro-api.coinmarketcap.com/v2/cryptocurrency/quotes/latest'"
   ]
  },
  {
   "cell_type": "code",
   "execution_count": 4,
   "id": "bc21646f",
   "metadata": {},
   "outputs": [],
   "source": [
    "parameter = {\n",
    "    'slug':'bitcoin',\n",
    "    'convert':'USD'\n",
    "}"
   ]
  },
  {
   "cell_type": "code",
   "execution_count": 5,
   "id": "06255c61",
   "metadata": {},
   "outputs": [],
   "source": [
    "headers = {\n",
    "    'Accepts': 'application/json',\n",
    "    'X-CMC_PRO_API_KEY': '755c83a4-1e9c-473b-99f6-bfec85be4b22'\n",
    "}\n"
   ]
  },
  {
   "cell_type": "code",
   "execution_count": 6,
   "id": "63f3356a",
   "metadata": {},
   "outputs": [],
   "source": [
    "session = Session()"
   ]
  },
  {
   "cell_type": "code",
   "execution_count": 7,
   "id": "e3acac9f",
   "metadata": {},
   "outputs": [],
   "source": [
    "session.headers.update(headers)"
   ]
  },
  {
   "cell_type": "code",
   "execution_count": 8,
   "id": "d0d24606",
   "metadata": {},
   "outputs": [],
   "source": [
    "response = session.get(url, params=parameter)"
   ]
  },
  {
   "cell_type": "code",
   "execution_count": 9,
   "id": "41b26456",
   "metadata": {},
   "outputs": [
    {
     "name": "stdout",
     "output_type": "stream",
     "text": [
      "{\"status\":{\"timestamp\":\"2023-10-06T18:19:50.476Z\",\"error_code\":0,\"error_message\":null,\"elapsed\":1064,\"credit_count\":1,\"notice\":null},\"data\":{\"1\":{\"id\":1,\"name\":\"Bitcoin\",\"symbol\":\"BTC\",\"slug\":\"bitcoin\",\"num_market_pairs\":10486,\"date_added\":\"2010-07-13T00:00:00.000Z\",\"tags\":[{\"slug\":\"mineable\",\"name\":\"Mineable\",\"category\":\"OTHERS\"},{\"slug\":\"pow\",\"name\":\"PoW\",\"category\":\"ALGORITHM\"},{\"slug\":\"sha-256\",\"name\":\"SHA-256\",\"category\":\"ALGORITHM\"},{\"slug\":\"store-of-value\",\"name\":\"Store Of Value\",\"category\":\"CATEGORY\"},{\"slug\":\"state-channel\",\"name\":\"State Channel\",\"category\":\"CATEGORY\"},{\"slug\":\"coinbase-ventures-portfolio\",\"name\":\"Coinbase Ventures Portfolio\",\"category\":\"CATEGORY\"},{\"slug\":\"three-arrows-capital-portfolio\",\"name\":\"Three Arrows Capital Portfolio\",\"category\":\"CATEGORY\"},{\"slug\":\"polychain-capital-portfolio\",\"name\":\"Polychain Capital Portfolio\",\"category\":\"CATEGORY\"},{\"slug\":\"binance-labs-portfolio\",\"name\":\"Binance Labs Portfolio\",\"category\":\"CATEGORY\"},{\"slug\":\"blockchain-capital-portfolio\",\"name\":\"Blockchain Capital Portfolio\",\"category\":\"CATEGORY\"},{\"slug\":\"boostvc-portfolio\",\"name\":\"BoostVC Portfolio\",\"category\":\"CATEGORY\"},{\"slug\":\"cms-holdings-portfolio\",\"name\":\"CMS Holdings Portfolio\",\"category\":\"CATEGORY\"},{\"slug\":\"dcg-portfolio\",\"name\":\"DCG Portfolio\",\"category\":\"CATEGORY\"},{\"slug\":\"dragonfly-capital-portfolio\",\"name\":\"DragonFly Capital Portfolio\",\"category\":\"CATEGORY\"},{\"slug\":\"electric-capital-portfolio\",\"name\":\"Electric Capital Portfolio\",\"category\":\"CATEGORY\"},{\"slug\":\"fabric-ventures-portfolio\",\"name\":\"Fabric Ventures Portfolio\",\"category\":\"CATEGORY\"},{\"slug\":\"framework-ventures-portfolio\",\"name\":\"Framework Ventures Portfolio\",\"category\":\"CATEGORY\"},{\"slug\":\"galaxy-digital-portfolio\",\"name\":\"Galaxy Digital Portfolio\",\"category\":\"CATEGORY\"},{\"slug\":\"huobi-capital-portfolio\",\"name\":\"Huobi Capital Portfolio\",\"category\":\"CATEGORY\"},{\"slug\":\"alameda-research-portfolio\",\"name\":\"Alameda Research Portfolio\",\"category\":\"CATEGORY\"},{\"slug\":\"a16z-portfolio\",\"name\":\"a16z Portfolio\",\"category\":\"CATEGORY\"},{\"slug\":\"1confirmation-portfolio\",\"name\":\"1Confirmation Portfolio\",\"category\":\"CATEGORY\"},{\"slug\":\"winklevoss-capital-portfolio\",\"name\":\"Winklevoss Capital Portfolio\",\"category\":\"CATEGORY\"},{\"slug\":\"usv-portfolio\",\"name\":\"USV Portfolio\",\"category\":\"CATEGORY\"},{\"slug\":\"placeholder-ventures-portfolio\",\"name\":\"Placeholder Ventures Portfolio\",\"category\":\"CATEGORY\"},{\"slug\":\"pantera-capital-portfolio\",\"name\":\"Pantera Capital Portfolio\",\"category\":\"CATEGORY\"},{\"slug\":\"multicoin-capital-portfolio\",\"name\":\"Multicoin Capital Portfolio\",\"category\":\"CATEGORY\"},{\"slug\":\"paradigm-portfolio\",\"name\":\"Paradigm Portfolio\",\"category\":\"CATEGORY\"},{\"slug\":\"bitcoin-ecosystem\",\"name\":\"Bitcoin Ecosystem\",\"category\":\"PLATFORM\"},{\"slug\":\"ftx-bankruptcy-estate\",\"name\":\"FTX Bankruptcy Estate \",\"category\":\"CATEGORY\"}],\"max_supply\":21000000,\"circulating_supply\":19505837,\"total_supply\":19505837,\"is_active\":1,\"infinite_supply\":false,\"platform\":null,\"cmc_rank\":1,\"is_fiat\":0,\"self_reported_circulating_supply\":null,\"self_reported_market_cap\":null,\"tvl_ratio\":null,\"last_updated\":\"2023-10-06T18:17:00.000Z\",\"quote\":{\"USD\":{\"price\":27928.49032382811,\"volume_24h\":12464657273.458717,\"volume_change_24h\":-5.0439,\"percent_change_1h\":0.23178123,\"percent_change_24h\":1.56765154,\"percent_change_7d\":4.19886052,\"percent_change_30d\":8.33029974,\"percent_change_60d\":-4.03960306,\"percent_change_90d\":-7.59754132,\"market_cap\":544768579912.66833,\"market_cap_dominance\":49.7493,\"fully_diluted_market_cap\":586498296800.39,\"tvl\":null,\"last_updated\":\"2023-10-06T18:17:00.000Z\"}}}}}\n"
     ]
    }
   ],
   "source": [
    "print(response.text)"
   ]
  },
  {
   "cell_type": "code",
   "execution_count": null,
   "id": "0907b720",
   "metadata": {},
   "outputs": [],
   "source": []
  }
 ],
 "metadata": {
  "kernelspec": {
   "display_name": "Python 3 (ipykernel)",
   "language": "python",
   "name": "python3"
  },
  "language_info": {
   "codemirror_mode": {
    "name": "ipython",
    "version": 3
   },
   "file_extension": ".py",
   "mimetype": "text/x-python",
   "name": "python",
   "nbconvert_exporter": "python",
   "pygments_lexer": "ipython3",
   "version": "3.11.5"
  }
 },
 "nbformat": 4,
 "nbformat_minor": 5
}
